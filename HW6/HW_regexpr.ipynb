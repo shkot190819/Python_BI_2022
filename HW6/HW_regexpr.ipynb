{
  "nbformat": 4,
  "nbformat_minor": 0,
  "metadata": {
    "colab": {
      "provenance": []
    },
    "kernelspec": {
      "name": "python3",
      "display_name": "Python 3"
    },
    "language_info": {
      "name": "python"
    }
  },
  "cells": [
    {
      "cell_type": "code",
      "execution_count": 5,
      "metadata": {
        "id": "dI5j03B57MRV"
      },
      "outputs": [],
      "source": [
        "import requests\n",
        "import re\n",
        "import seaborn as sns\n",
        "\n",
        "# 1\n",
        "url = 'https://raw.githubusercontent.com/Serfentum/bf_course/master/15.re/references'\n",
        "r = requests.get(url, allow_redirects=True)\n",
        "pattern = re.compile(r'(ftp.sra.ebi.ac.uk.+?)(\\t|;)')\n",
        "rrr = re.findall(pattern, r.content.decode(\"utf-8\"))\n",
        "\n",
        "with open('ftps', 'w') as f:\n",
        "  for i in range(len(rrr)):\n",
        "    print(rrr[i][0], file=f)\n",
        "\n"
      ]
    },
    {
      "cell_type": "code",
      "source": [
        "# 6\n",
        "def brick_language(translate_string):\n",
        "  return re.sub(r\"([аиоуэыеёюАИОУЭЫЕЁЮ])\", r\"\\1р\\1\", translate_string)\n",
        "\n"
      ],
      "metadata": {
        "id": "cNcGlxeFrIFE"
      },
      "execution_count": null,
      "outputs": []
    },
    {
      "cell_type": "code",
      "source": [
        "url2 = 'https://raw.githubusercontent.com/Serfentum/bf_course/master/15.re/2430AD'\n",
        "\n",
        "# 2\n",
        "story = requests.get(url2, allow_redirects=True).text\n",
        "numbers = re.findall(r'(\\b\\d+?\\.?\\d*?)\\D', story)\n",
        "\n",
        "# 3\n",
        "word_with_a = re.findall(r'[a-zA-Z]*[aA][a-zA-Z]*\\b', story)\n",
        "\n",
        "# 4\n",
        "exclamatory_sentences = re.findall(r'[A-Z][^\\.]*?!', story)\n",
        "\n",
        "# 5\n",
        "not_yet_unique_words = re.findall(r\"\\w*\\w'?\\w*\", story)\n",
        "not_yet_unique_words_lower = [x.lower() for x in not_yet_unique_words]\n",
        "unique_words = list(set(not_yet_unique_words_lower))\n",
        "\n",
        "lengths_of_words = []\n",
        "for i in unique_words:\n",
        "  lengths_of_words.append(len(i))\n",
        "\n",
        "lengths_of_unique_words = list(set(lengths_of_words))\n",
        "numbers_of_words = []\n",
        "for z in range(1,16):\n",
        "  numbers_of_words.append(lengths_of_words.count(z)/len(unique_words))\n",
        "\n",
        "sns.barplot(x=lengths_of_unique_words, y=numbers_of_words)\n"
      ],
      "metadata": {
        "colab": {
          "base_uri": "https://localhost:8080/",
          "height": 283
        },
        "id": "cx1_8BoKrIOe",
        "outputId": "a1c840d8-ba07-49cf-8698-5a4c36ed5317"
      },
      "execution_count": 6,
      "outputs": [
        {
          "output_type": "execute_result",
          "data": {
            "text/plain": [
              "<matplotlib.axes._subplots.AxesSubplot at 0x7ffbc336a110>"
            ]
          },
          "metadata": {},
          "execution_count": 6
        },
        {
          "output_type": "display_data",
          "data": {
            "text/plain": [
              "<Figure size 432x288 with 1 Axes>"
            ],
            "image/png": "[encoded data removed]"
          },
          "metadata": {
            "needs_background": "light"
          }
        }
      ]
    },
    {
      "cell_type": "code",
      "source": [],
      "metadata": {
        "id": "xN8b34bkrIXV"
      },
      "execution_count": null,
      "outputs": []
    },
    {
      "cell_type": "code",
      "source": [],
      "metadata": {
        "id": "oaa-KdstrIeO"
      },
      "execution_count": null,
      "outputs": []
    }
  ]
}